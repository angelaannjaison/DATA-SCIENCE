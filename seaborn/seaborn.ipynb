{
 "cells": [
  {
   "cell_type": "code",
   "execution_count": 5,
   "id": "bd250a68",
   "metadata": {},
   "outputs": [
    {
     "name": "stdout",
     "output_type": "stream",
     "text": [
      "   gives_birth  aquatic_animal  aerial_animal  has_legs\n",
      "0            1               0              0         1\n",
      "1            0               0              0         0\n",
      "2            0               1              0         0\n",
      "3            0               2              0         1\n",
      "4            1               0              1         1\n",
      "5            0               0              1         1\n",
      "6            1               0              0         1\n",
      "7            1               1              0         0\n",
      "8            0               2              0         1\n",
      "9            0               2              0         1\n",
      "  class_label\n",
      "0      mammal\n",
      "1     reptile\n",
      "2        fish\n",
      "3   amphibian\n",
      "4        bird\n",
      "5        bird\n",
      "6      mammal\n",
      "7        fish\n",
      "8   amphibian\n",
      "9   amphibian\n"
     ]
    }
   ],
   "source": [
    "import pandas as pd\n",
    "\n",
    "iris=pd.read_csv('data.csv')\n",
    "x=iris[['gives_birth','aquatic_animal','aerial_animal','has_legs']]\n",
    "y=iris[['class_label']]\n",
    "print(x)\n",
    "print(y)\n"
   ]
  },
  {
   "cell_type": "code",
   "execution_count": null,
   "id": "ca69688b",
   "metadata": {},
   "outputs": [],
   "source": []
  },
  {
   "cell_type": "code",
   "execution_count": 11,
   "id": "fa547afc",
   "metadata": {},
   "outputs": [
    {
     "data": {
      "image/png": "[encoded data removed]",
      "text/plain": [
       "<Figure size 432x288 with 1 Axes>"
      ]
     },
     "metadata": {
      "needs_background": "light"
     },
     "output_type": "display_data"
    }
   ],
   "source": [
    "import seaborn as snc\n",
    "ax=snc.scatterplot(x='gives_birth',y='aerial_animal',hue='class_label',data=iris,legend='full',palette={'mammal':'red','amphibian':'blue','bird':'green','fish':'black','reptile':'yellow'})"
   ]
  },
  {
   "cell_type": "code",
   "execution_count": null,
   "id": "439e74cf",
   "metadata": {},
   "outputs": [],
   "source": []
  }
 ],
 "metadata": {
  "kernelspec": {
   "display_name": "Python 3 (ipykernel)",
   "language": "python",
   "name": "python3"
  },
  "language_info": {
   "codemirror_mode": {
    "name": "ipython",
    "version": 3
   },
   "file_extension": ".py",
   "mimetype": "text/x-python",
   "name": "python",
   "nbconvert_exporter": "python",
   "pygments_lexer": "ipython3",
   "version": "3.9.7"
  }
 },
 "nbformat": 4,
 "nbformat_minor": 5
}
